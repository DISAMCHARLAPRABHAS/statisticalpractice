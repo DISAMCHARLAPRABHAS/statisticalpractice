{
  "nbformat": 4,
  "nbformat_minor": 0,
  "metadata": {
    "colab": {
      "provenance": [],
      "authorship_tag": "ABX9TyPNHx7toT//2k0ss7R39FFi",
      "include_colab_link": true
    },
    "kernelspec": {
      "name": "python3",
      "display_name": "Python 3"
    },
    "language_info": {
      "name": "python"
    }
  },
  "cells": [
    {
      "cell_type": "markdown",
      "metadata": {
        "id": "view-in-github",
        "colab_type": "text"
      },
      "source": [
        "<a href=\"https://colab.research.google.com/github/DISAMCHARLAPRABHAS/statisticalpractice/blob/main/webscrapeing.ipynb\" target=\"_parent\"><img src=\"https://colab.research.google.com/assets/colab-badge.svg\" alt=\"Open In Colab\"/></a>"
      ]
    },
    {
      "cell_type": "code",
      "execution_count": 4,
      "metadata": {
        "colab": {
          "base_uri": "https://localhost:8080/"
        },
        "id": "VS_7uxPj_tEW",
        "outputId": "af9151bb-e5db-43d5-9c0f-8ba743b17f2d"
      },
      "outputs": [
        {
          "output_type": "stream",
          "name": "stdout",
          "text": [
            "Requirement already satisfied: requests in /usr/local/lib/python3.11/dist-packages (2.32.3)\n",
            "Requirement already satisfied: charset-normalizer<4,>=2 in /usr/local/lib/python3.11/dist-packages (from requests) (3.4.2)\n",
            "Requirement already satisfied: idna<4,>=2.5 in /usr/local/lib/python3.11/dist-packages (from requests) (3.10)\n",
            "Requirement already satisfied: urllib3<3,>=1.21.1 in /usr/local/lib/python3.11/dist-packages (from requests) (2.4.0)\n",
            "Requirement already satisfied: certifi>=2017.4.17 in /usr/local/lib/python3.11/dist-packages (from requests) (2025.4.26)\n",
            "Collecting bs4\n",
            "  Downloading bs4-0.0.2-py2.py3-none-any.whl.metadata (411 bytes)\n",
            "Requirement already satisfied: beautifulsoup4 in /usr/local/lib/python3.11/dist-packages (from bs4) (4.13.4)\n",
            "Requirement already satisfied: soupsieve>1.2 in /usr/local/lib/python3.11/dist-packages (from beautifulsoup4->bs4) (2.7)\n",
            "Requirement already satisfied: typing-extensions>=4.0.0 in /usr/local/lib/python3.11/dist-packages (from beautifulsoup4->bs4) (4.14.0)\n",
            "Downloading bs4-0.0.2-py2.py3-none-any.whl (1.2 kB)\n",
            "Installing collected packages: bs4\n",
            "Successfully installed bs4-0.0.2\n",
            "Requirement already satisfied: html5lib in /usr/local/lib/python3.11/dist-packages (1.1)\n",
            "Requirement already satisfied: six>=1.9 in /usr/local/lib/python3.11/dist-packages (from html5lib) (1.17.0)\n",
            "Requirement already satisfied: webencodings in /usr/local/lib/python3.11/dist-packages (from html5lib) (0.5.1)\n"
          ]
        }
      ],
      "source": [
        "!pip install requests\n",
        "!pip install bs4\n",
        "!pip install html5lib\n"
      ]
    },
    {
      "cell_type": "code",
      "source": [
        "import requests\n",
        "from bs4 import BeautifulSoup\n",
        "import html5lib\n",
        "import pandas as pd\n",
        "url =\"https://play.google.com/store/apps/details?id=com.amazon.mShop.android.shopping&hl=en_IN\"\n",
        "r=requests.get(url)\n",
        "soup=BeautifulSoup(r.text,\"html5lib\")\n",
        "name_blocks = soup.find_all('div', class_='X5PpBb')\n",
        "\n",
        "data = []\n",
        "sno = 1\n",
        "\n",
        "for name_block in name_blocks:\n",
        "    name = name_block.get_text(strip=True)\n",
        "\n",
        "    # Get rating from the following iXRFPc div\n",
        "    rating_block = name_block.find_next('div', class_='iXRFPc')\n",
        "    # Count how many stars are filled (use data-number=1 to 5)\n",
        "    stars = rating_block.find_all('span', class_='notranslate Z1Dz7b')\n",
        "    rating = len(stars)\n",
        "\n",
        "    # Get review text from the next h3YV2d block\n",
        "    review_block = name_block.find_next('div', class_='h3YV2d')\n",
        "    review_text = review_block.get_text(strip=True) if review_block else \"\"\n",
        "\n",
        "    # Append to data list\n",
        "    data.append({\n",
        "        'sno': sno,\n",
        "        'name': name,\n",
        "        'rating': rating,\n",
        "        'review': review_text\n",
        "    })\n",
        "    sno += 1\n",
        "\n",
        "# Save to CSV\n",
        "df = pd.DataFrame(data)\n",
        "df.to_csv(\"amazon.csv\", index=False)\n",
        "print(\"Saved to amazon.csv\")"
      ],
      "metadata": {
        "colab": {
          "base_uri": "https://localhost:8080/"
        },
        "id": "6Vradr_F_6Z9",
        "outputId": "b59c6cba-2cb5-430f-a8d1-4ea0944c407f"
      },
      "execution_count": 13,
      "outputs": [
        {
          "output_type": "stream",
          "name": "stdout",
          "text": [
            "Saved to amazon.csv\n"
          ]
        }
      ]
    },
    {
      "cell_type": "markdown",
      "source": [],
      "metadata": {
        "id": "nGNNYAQ0H8EC"
      }
    },
    {
      "cell_type": "code",
      "source": [
        "<div class=\"X5PpBb\">Trish Maxwell</div>\n",
        "<div class=\"Jx4nYe\"><div role=\"img\" aria-label=\"Rated 1 stars out of five stars\" class=\"iXRFPc\"><span aria-hidden=\"true\" jsname=\"fI6EEc\" class=\"F7XJmb\" data-number=\"1\"><span class=\"notranslate Z1Dz7b\" aria-hidden=\"true\"><svg xmlns=\"http://www.w3.org/2000/svg\" viewBox=\"0 0 24 24\"><path d=\"M0 0h24v24H0z\" fill=\"none\"></path><path d=\"M0 0h24v24H0z\" fill=\"none\"></path><path d=\"M12 17.27L18.18 21l-1.64-7.03L22 9.24l-7.19-.61L12 2 9.19 8.63 2 9.24l5.46 4.73L5.82 21z\"></path></svg></span></span><span aria-hidden=\"true\" jsname=\"fI6EEc\" class=\"F7XJmb\" data-number=\"2\"><span class=\"notranslate Wi7KIe\" aria-hidden=\"true\"><svg xmlns=\"http://www.w3.org/2000/svg\" viewBox=\"0 0 24 24\"><path d=\"M0 0h24v24H0z\" fill=\"none\"></path><path d=\"M0 0h24v24H0z\" fill=\"none\"></path><path d=\"M12 17.27L18.18 21l-1.64-7.03L22 9.24l-7.19-.61L12 2 9.19 8.63 2 9.24l5.46 4.73L5.82 21z\"></path></svg></span></span><span aria-hidden=\"true\" jsname=\"fI6EEc\" class=\"F7XJmb\" data-number=\"3\"><span class=\"notranslate Wi7KIe\" aria-hidden=\"true\"><svg xmlns=\"http://www.w3.org/2000/svg\" viewBox=\"0 0 24 24\"><path d=\"M0 0h24v24H0z\" fill=\"none\"></path><path d=\"M0 0h24v24H0z\" fill=\"none\"></path><path d=\"M12 17.27L18.18 21l-1.64-7.03L22 9.24l-7.19-.61L12 2 9.19 8.63 2 9.24l5.46 4.73L5.82 21z\"></path></svg></span></span><span aria-hidden=\"true\" jsname=\"fI6EEc\" class=\"F7XJmb\" data-number=\"4\"><span class=\"notranslate Wi7KIe\" aria-hidden=\"true\"><svg xmlns=\"http://www.w3.org/2000/svg\" viewBox=\"0 0 24 24\"><path d=\"M0 0h24v24H0z\" fill=\"none\"></path><path d=\"M0 0h24v24H0z\" fill=\"none\"></path><path d=\"M12 17.27L18.18 21l-1.64-7.03L22 9.24l-7.19-.61L12 2 9.19 8.63 2 9.24l5.46 4.73L5.82 21z\"></path></svg></span></span><span aria-hidden=\"true\" jsname=\"fI6EEc\" class=\"F7XJmb\" data-number=\"5\"><span class=\"notranslate Wi7KIe\" aria-hidden=\"true\"><svg xmlns=\"http://www.w3.org/2000/svg\" viewBox=\"0 0 24 24\"><path d=\"M0 0h24v24H0z\" fill=\"none\"></path><path d=\"M0 0h24v24H0z\" fill=\"none\"></path><path d=\"M12 17.27L18.18 21l-1.64-7.03L22 9.24l-7.19-.61L12 2 9.19 8.63 2 9.24l5.46 4.73L5.82 21z\"></path></svg></span></span></div><span class=\"bp9Aid\">29 May 2025</span></div>\n",
        "<div class=\"h3YV2d\">One of the worse shopping apps I have. The app freezes up between loadings of their product sites, customer account profile page site, and anything else within the app you may need it to load. I love shopping from Amazon and all their products and perks they have to offer. Their shopping app has always had issues. I am a Prime member and I use the other Amazon apps without any glitches. It seems Amazon is too big to care if the app works correctly.</div>\n"
      ],
      "metadata": {
        "id": "Hl4GqBPiDNSR"
      },
      "execution_count": null,
      "outputs": []
    }
  ]
}